{
 "cells": [
  {
   "cell_type": "code",
   "execution_count": 6,
   "id": "c0248bdc-bb0a-4670-8f5e-34bf80b6ccb2",
   "metadata": {},
   "outputs": [
    {
     "name": "stdout",
     "output_type": "stream",
     "text": [
      "welcome to the office Pushkar\n"
     ]
    }
   ],
   "source": [
    "\"\"\"\n",
    "Q. What is the difference between a function and a method in Python?\n",
    "\n",
    "-Function is a block or code which perform some specific task/computation, it is generally used because functions/code are reusable, \n",
    "neat & clean and organised, saves your time, print, len, type these are inbuilt python functions, ceil and  roof nearest highest whole no. value \n",
    "or floor and ground nearest smallest whole no., it has generally user defined functions as well as map, lambda, reduce and filter functions\n",
    "USER DEFINED FUNCTION\n",
    "syntax of function \n",
    "def func():\n",
    "    do something (body of function)\"\"\"\n",
    "\n",
    "# this is the method how it is used \n",
    "def greetings(name): # a passing a variable inside a function, name is positional argument\n",
    "    print('welcome to the office', name)\n",
    "\n",
    "greetings('Pushkar')"
   ]
  },
  {
   "cell_type": "code",
   "execution_count": 25,
   "id": "eab03c37-6f34-49a0-9828-e5d904c0ab03",
   "metadata": {},
   "outputs": [
    {
     "name": "stdout",
     "output_type": "stream",
     "text": [
      "3\n",
      "hello, pushkar!\n",
      "My name is Pushkar Agarwal.\n"
     ]
    }
   ],
   "source": [
    "\"\"\"Q.Explain the concept of function arguments and parameters in Python?\n",
    "if i explain you witrh an example when we write any functions this is positional parameters\n",
    "def add(a, b): - so here  'a' and 'b' are positional parameters\n",
    "    return a + b\n",
    "print(add(3, 5))  - and here 3 and 5 are arguments assigned to 'a' and 'b' respectively\n",
    "\n",
    "this is default parameter -\n",
    "def greet(name=\"Name\"):\n",
    "    return f\"Hello, {name}!\"\n",
    "print(greet())          here because there is no value it  Uses the default value \"Guest\"\n",
    "print(greet(\"Pushkar\"))   and here as i have given a value so it Uses the argument \"Alice\"\n",
    "\n",
    "keyword parametrers\n",
    "def introduce(first, last):\n",
    "    return f\"My name is {first} {last}.\"\n",
    "print(introduce(last=\"Pushkar\", first=\"Agarwal\"))  as here i have denoted a key value or a and b so Keyword arguments will run\"\"\"\n",
    "\n",
    "def add(a, b):\n",
    "    return a + b\n",
    "print(add(1,2))\n",
    "\n",
    "def greet(name ='Name'):\n",
    "    return f'hello, {name}!'\n",
    "print(greet('pushkar'))\n",
    "\n",
    "def introduce(first, last):\n",
    "    return f\"My name is {first} {last}.\"\n",
    "print(introduce(first=\"Pushkar\", last=\"Agarwal\"))"
   ]
  },
  {
   "cell_type": "code",
   "execution_count": 35,
   "id": "b9600b33-e967-4bf8-bbb0-47c3ad1c44e7",
   "metadata": {},
   "outputs": [
    {
     "name": "stdout",
     "output_type": "stream",
     "text": [
      "Hello, Alice!\n",
      "[[1, 2, 3], [0, 9, 8, 7]]\n"
     ]
    }
   ],
   "source": [
    "\"\"\"Q. What are the different ways to define and call a function in Python?\n",
    "- defeing and calling a function means that what we are writing and wanting to run the code only by calling methods \n",
    "that are print, return. in python we have several cases only based on their use case like lambda, map, gernal def and \n",
    "many more\"\"\"\n",
    "\n",
    "def greet(name):\n",
    "    return f\"Hello, {name}!\"  #- this is the function i have written and for calling i will write print and give the value\n",
    "    \n",
    "print(greet(\"Alice\"))  #ere i called\n",
    "\n",
    "#variable length argument, when you don't know the no of argument use *\n",
    "def any_no(*no):\n",
    "    list_no = []\n",
    "    for i in no :\n",
    "        if type(i) == list:\n",
    "            list_no.append(i)\n",
    "    return list_no\n",
    "\n",
    "print(any_no(1,2,3,3.3, 3+4j, [1,2,3],[0,9,8,7]))\n"
   ]
  },
  {
   "cell_type": "code",
   "execution_count": 39,
   "id": "42e11ce9-0f98-472d-a8b2-dbf7df475d54",
   "metadata": {},
   "outputs": [
    {
     "name": "stdout",
     "output_type": "stream",
     "text": [
      "Positive\n"
     ]
    }
   ],
   "source": [
    "\"\"\"Q. What is the purpose of the `return` statement in a Python function?\n",
    "The return statement in Python serves to send a value back from a function to the caller. \n",
    "It signifies the end of the function's execution and provides the result of the function to the part of \n",
    "the program where it was called means what you exactly want in the and just type return and then the value will be printed itself \"\"\"\n",
    "\n",
    "def classify_number(n):\n",
    "    if n > 0:\n",
    "        return \"Positive\"\n",
    "    elif n < 0:\n",
    "        return \"Negative\"\n",
    "    return \"Zero\"\n",
    "\n",
    "print(classify_number(5))"
   ]
  },
  {
   "cell_type": "code",
   "execution_count": 43,
   "id": "08e62ac0-53da-479b-8fa8-6f26b86c346e",
   "metadata": {},
   "outputs": [
    {
     "name": "stdout",
     "output_type": "stream",
     "text": [
      "1\n",
      "2\n",
      "ajay\n",
      "p\n",
      "w\n",
      "s\n",
      "k\n",
      "i\n",
      "l\n",
      "l\n",
      "s\n"
     ]
    }
   ],
   "source": [
    "\"\"\"Q. What are iterators in Python and how do they differ from iterables?\n",
    "An iterator is an object representing a string of data and return data one by one, if i give you the example of day to day life\n",
    "potatao(iterable) it can not be cooked in original form, first you have to chop and wash then ready for coook - iterator\n",
    "the process of cooking , so the proccess in which everything is seen particularly. Whereas, An iterable is any python\n",
    "object/sequential structure that is capable of returing its members one at a time (one by one)\n",
    "permitting it to be iterated over in a for loop example= lists, tuples\"\"\"\n",
    "\n",
    "#iterable \n",
    "lis =[1,2,'ajay']\n",
    "for i in lis:\n",
    "    print(i)\n",
    "\n",
    "#iterators\n",
    "s= 'pwskills'  #string is iterabe'\n",
    "for i in s: #how python decided that s should b iterated , comes the concept of iterator\n",
    "    print(i)"
   ]
  },
  {
   "cell_type": "code",
   "execution_count": 55,
   "id": "3cbe51b2-b164-4029-a7d7-703a2c6b7c4c",
   "metadata": {},
   "outputs": [
    {
     "name": "stdout",
     "output_type": "stream",
     "text": [
      "0\n",
      "1\n",
      "4\n",
      "9\n"
     ]
    }
   ],
   "source": [
    "\"\"\"Q.  Explain the concept of generators in Python and how they are defined?\n",
    "In Python, a generator is a type of iterable, like a list or a tuple, but it does not store its values in memory. \n",
    "Instead, a generator produces items one at a time, which can save memory, especially when dealing with large datasets or infinite sequences.and\n",
    "it also uses yeild operator as a function\n",
    "\"\"\"\n",
    "def square_number_genrator(n):\n",
    "    for i in range(n):\n",
    "        yield i**2\n",
    " \n",
    "square_number_genrator(10)  #yield is creating agenerator or iterator object\n",
    "gen = square_number_genrator(10)\n",
    "print(next(gen))\n",
    "print(next(gen))\n",
    "print(next(gen))\n",
    "print(next(gen)) # so here we can seee that how everythig is generating in sequential form like one by one by creating 'gen' generator"
   ]
  },
  {
   "cell_type": "code",
   "execution_count": 61,
   "id": "301f753b-9689-4b94-bd9b-3cd5ad2515f7",
   "metadata": {},
   "outputs": [
    {
     "name": "stdout",
     "output_type": "stream",
     "text": [
      "[0, 1, 4, 9, 16, 25, 36, 49, 64, 81]\n",
      "0\n",
      "1\n",
      "4\n"
     ]
    }
   ],
   "source": [
    "\"\"\"Q. What are the advantages of using generators over regular functions?\n",
    "regular functions calculates the square or the values and return in one go and scince its returning in one go.\n",
    "memory usage will be more and it will take a lot time if there is a lot of compuattaion as all the computaion will be done\n",
    "first and then the calculation will be returned in one go\"\"\"\n",
    "#regular function\n",
    "def square_number(n):\n",
    "    result=[]\n",
    "    for i in range(n):\n",
    "        result.append(i**2)\n",
    "    return result\n",
    "\n",
    "print(square_number(10))\n",
    "\n",
    "#generator function\n",
    "def square_number_genrator(n):\n",
    "    for i in range(n):\n",
    "        yield i**2\n",
    " \n",
    "square_number_genrator(10)  #yield is creating agenerator or iterator object\n",
    "gen = square_number_genrator(10)\n",
    "gen\n",
    "print(next(gen))\n",
    "print(next(gen))\n",
    "print(next(gen))"
   ]
  },
  {
   "cell_type": "code",
   "execution_count": 67,
   "id": "b09a947b-4e5e-48be-9768-cc5779f143bc",
   "metadata": {},
   "outputs": [
    {
     "name": "stdout",
     "output_type": "stream",
     "text": [
      "4\n",
      "7\n"
     ]
    }
   ],
   "source": [
    "\"\"\"Q.  What is a lambda function in Python and when is it typically used?\n",
    "Lambda function is ananomius function, and the syantax is:-\n",
    "lambda argments : expression, there is  no need of return statment and def keyword\"\"\"\n",
    "square_lambda= lambda x: x**2\n",
    "print(square_lambda(2))\n",
    "\n",
    "#sort the list basedd on length of element of list\n",
    "le = lambda x: len(x)\n",
    "print(le('pushkar'))"
   ]
  },
  {
   "cell_type": "code",
   "execution_count": 87,
   "id": "527e1a61-b6a0-4597-9292-00c5eb67c498",
   "metadata": {},
   "outputs": [
    {
     "name": "stdout",
     "output_type": "stream",
     "text": [
      "[1, 4, 9, 16, 25]\n"
     ]
    }
   ],
   "source": [
    "\"\"\"Q. Explain the purpose and usage of the `map()` function in Python.\n",
    "MAP FUNCTION- executes a specied function for each of item at an iterable\n",
    "syntax - map(func, *iterables)\"\"\"\n",
    "    \n",
    "def square(x):\n",
    "    return x**2\n",
    "    \n",
    "numbers = [1, 2, 3, 4, 5]\n",
    "\n",
    "# Use case of map func.\n",
    "sq_numbers = map(square, numbers)\n",
    "\n",
    "# Convert the result to a list and print\n",
    "print(list(sq_numbers))"
   ]
  },
  {
   "cell_type": "code",
   "execution_count": 133,
   "id": "b647659e-1224-4d0b-be9c-14c17a17edee",
   "metadata": {},
   "outputs": [
    {
     "name": "stdout",
     "output_type": "stream",
     "text": [
      "[1, 3, 5]\n",
      "25\n",
      "[1, 4, 9, 16, 25]\n"
     ]
    }
   ],
   "source": [
    "\"\"\"Q.What is the difference between `map()`, `reduce()`, and `filter()` functions in Python?\n",
    "\n",
    "-FILTER FUNCTION - it is used to filter elements from an iterable based on some conditions\n",
    "syntax >> filter (function, iterable)\n",
    "\n",
    "-REDUCE FUNCTION >> folding/reduction, and reduce will always take two argument function\n",
    "#syntax - reduce(func, iterable)\n",
    "\n",
    "-MAP FUNCTION- executes a specied function for each of item at an iterable\n",
    "syntax - map(func, *iterables)\"\"\"\n",
    "\n",
    "\n",
    "l = [1,2,3,4,5]\n",
    "print(list(filter(lambda x:x%2!=0,l)))\n",
    "\n",
    "from functools import reduce\n",
    "l = [2,1,3,4,4,5,6]\n",
    "print(reduce(lambda x, y : x+y,l))\n",
    "\n",
    "def square(x):\n",
    "    return x**2   \n",
    "numbers = [1, 2, 3, 4, 5]\n",
    "sq_numbers = map(square, numbers)\n",
    "print(list(sq_numbers))"
   ]
  },
  {
   "cell_type": "code",
   "execution_count": 137,
   "id": "bd96a380-911d-46d2-9052-258d9dda7bfc",
   "metadata": {},
   "outputs": [
    {
     "data": {
      "text/plain": [
       "[2, 4, 6, 8]"
      ]
     },
     "execution_count": 137,
     "metadata": {},
     "output_type": "execute_result"
    }
   ],
   "source": [
    "#Q. Write a Python function that takes a list of numbers as input and returns the sum of all even numbers in the list.\n",
    "\n",
    "def check_even(num):\n",
    "    if num%2==0:\n",
    "        return True\n",
    "    return False\n",
    "num = [1,2,3,4,5,6,7,8]\n",
    "list(filter(check_even, num))\n"
   ]
  },
  {
   "cell_type": "code",
   "execution_count": 139,
   "id": "bedfda65-b9a3-4112-a436-a3e3946851b6",
   "metadata": {},
   "outputs": [
    {
     "name": "stdout",
     "output_type": "stream",
     "text": [
      "olleh\n"
     ]
    }
   ],
   "source": [
    "# Q.Create a Python function that accepts a string and returns the reverse of that string.\n",
    "def reverse_string(text):\n",
    "    return text[::-1]\n",
    "\n",
    "print(reverse_string(\"hello\"))"
   ]
  },
  {
   "cell_type": "code",
   "execution_count": 171,
   "id": "75aba12d-f877-43cf-b6c0-b1a5452b17fb",
   "metadata": {},
   "outputs": [
    {
     "name": "stdout",
     "output_type": "stream",
     "text": [
      "[1, 4, 9, 16]\n"
     ]
    }
   ],
   "source": [
    "#Q.  Implement a Python function that takes a list of integers and returns a new list containing the squares of each number.\n",
    "def square_numbers(numbers):\n",
    "    squared_list = []\n",
    "    for num in numbers:\n",
    "        squared_list.append(num**2)\n",
    "    return squared_list\n",
    "\n",
    "numbers = [1,2,3,4]\n",
    "squared_list = square_numbers(numbers)\n",
    "print(squared_list)"
   ]
  },
  {
   "cell_type": "code",
   "execution_count": 176,
   "id": "c666e854-66ad-456e-868e-7b5378cd1ef9",
   "metadata": {},
   "outputs": [],
   "source": [
    "#Q.Write a Python function that checks if a given number is prime or not from 1 to 200\n"
   ]
  },
  {
   "cell_type": "code",
   "execution_count": 184,
   "id": "763079c8-fe60-4f31-8599-164f2f5a7ec0",
   "metadata": {},
   "outputs": [
    {
     "name": "stdout",
     "output_type": "stream",
     "text": [
      "0\n",
      "1\n",
      "1\n",
      "2\n",
      "3\n"
     ]
    }
   ],
   "source": [
    "#Q.5. Create an iterator class in Python that generates the Fibonacci sequence up to a specified number of terms.\n",
    "\n",
    "#fibonacci series> sum of last two numbers 0,1,1,2,3,5,8..\n",
    "\n",
    "def fib(n):\n",
    "    a= 0\n",
    "    b=1\n",
    "    for i in range(n):  # if n=5,0,1,2,3,4\n",
    "        yield a\n",
    "        a, b = b, a+b\n",
    "f = fib(100)\n",
    "f\n",
    "print(next(f))\n",
    "print(next(f))\n",
    "print(next(f))\n",
    "print(next(f))\n",
    "print(next(f))"
   ]
  },
  {
   "cell_type": "code",
   "execution_count": null,
   "id": "fc862cec-506c-440c-a860-6d4e21e277e1",
   "metadata": {},
   "outputs": [],
   "source": [
    "#Q. Write a generator function in Python that yields the powers of 2 up to a given exponent."
   ]
  },
  {
   "cell_type": "code",
   "execution_count": 191,
   "id": "bf3a58fd-4a62-4c3d-b0ba-d2d895d4c14b",
   "metadata": {},
   "outputs": [
    {
     "name": "stdout",
     "output_type": "stream",
     "text": [
      "[(3, 2), (2, 3), (1, 5), (4, 8)]\n"
     ]
    }
   ],
   "source": [
    "#Q.Use a lambda function in Python to sort a list of tuples based on the second element of each tuple.\n",
    "tuples = [(1, 5), (3, 2), (4, 8), (2, 3)]\n",
    "sorted_tuples = sorted(tuples, key=lambda x: x[1])  # Sort the list of tuples based on the second element using a lambda function\n",
    "print(sorted_tuples)\n"
   ]
  },
  {
   "cell_type": "code",
   "execution_count": 193,
   "id": "3c1ceb6f-5966-4d7d-9d8d-b4f85a29b36b",
   "metadata": {},
   "outputs": [
    {
     "name": "stdout",
     "output_type": "stream",
     "text": [
      "[32.0, 51.8, 69.8, 87.8, 105.8, 123.8]\n"
     ]
    }
   ],
   "source": [
    "#Q. Write a Python program that uses `map()` to convert a list of temperatures from Celsius to Fahrenheit.\n",
    "\n",
    "celsius_temps = [0, 11, 21, 31, 41, 51]\n",
    "\n",
    "# Function to convert Celsius to Fahrenheit\n",
    "def celsius_to_fahrenheit(celsius):\n",
    "    return (celsius * 9/5) + 32\n",
    "    \n",
    "fahrenheit_temps = map(celsius_to_fahrenheit, celsius_temps)\n",
    "\n",
    "print(list(fahrenheit_temps))\n"
   ]
  },
  {
   "cell_type": "code",
   "execution_count": null,
   "id": "92acebe6-2d53-4224-8b3a-4b3342b10a3f",
   "metadata": {},
   "outputs": [],
   "source": [
    "#Q. Create a Python program that uses `filter()` to remove all the vowels from a given string.\n",
    "\n"
   ]
  }
 ],
 "metadata": {
  "kernelspec": {
   "display_name": "Python 3 (ipykernel)",
   "language": "python",
   "name": "python3"
  },
  "language_info": {
   "codemirror_mode": {
    "name": "ipython",
    "version": 3
   },
   "file_extension": ".py",
   "mimetype": "text/x-python",
   "name": "python",
   "nbconvert_exporter": "python",
   "pygments_lexer": "ipython3",
   "version": "3.12.4"
  }
 },
 "nbformat": 4,
 "nbformat_minor": 5
}
