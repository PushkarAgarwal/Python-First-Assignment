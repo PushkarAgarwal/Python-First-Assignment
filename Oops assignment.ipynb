{
 "cells": [
  {
   "cell_type": "code",
   "execution_count": null,
   "id": "5b95ff31-39af-4ab7-a7fa-b3ec7fa971f2",
   "metadata": {},
   "outputs": [],
   "source": [
    "''' 1Q.  What are the five key concepts of Object-Oriented Programming (OOP)\n",
    " why opps - a project can have many components, say backend (f1,f2), fontend(f3,f4),data pipeline(f5,f6)\n",
    " \n",
    "if a backend developer wants to work/chnage some backend function>> all the functionsare at 1 place\n",
    "oops helps to aarange the required function in respective classes, the  main concepts are-\n",
    "\n",
    " 1.INHERITANCE AND ABSTACTION \n",
    " It refers to process of child class revieving the properties of parent class, it is of many types \n",
    " overridnig, multi level, multiple, dimond, hierachial, and hybrid\n",
    " 2.POLYMORPHISIM AND ENCAPSULATION\n",
    " It refres to an object taking several forms depending on the methods,data. it takes in \n",
    " two ways method overloading and overriding or encapsulation means hiding something or bundling of data \n",
    " and methods of a class \n",
    " 3. CLASS AND STATIC METHOD \n",
    " class method is a method wgich is bound to the class(and not to a particular instance of the class),\n",
    " it can access/modify methods and attributes associated to the class across all the instances\n",
    " class method is defined with @classmethod decorator and instead of self, cls as first parameter, and \n",
    " static method does not modify class or instance state, doesnt access instance or clas state, it behaves like\n",
    " a plain function that belongs to the class, it dosen't depend on class/instance, it dosen't take either \n",
    " self or cls and @ststicmethod is used.\n",
    " 4.DUNDER METHOD \n",
    " dunder/magic/special methods are the methods defined by built in classes in python and classes define\n",
    " these type of methods for creating custom methods >> data for every object implementing\n",
    " operator overloading in python\n",
    " 5.DECORATORS\n",
    " it allows to modify or exchange the behaviour or function/class without directly modifying there orliginal code\n",
    "#similar to you decorating your house(putting lights,stickers, posters) \n",
    "extends/decorates the basic behaviour of the room. there are mainly two types of decorator function and class'''\n",
    "\n"
   ]
  },
  {
   "cell_type": "code",
   "execution_count": 20,
   "id": "02c2c0fd-6b2f-4c04-996e-dd7d08bc7cbe",
   "metadata": {},
   "outputs": [
    {
     "name": "stdout",
     "output_type": "stream",
     "text": [
      "2022 maruti 800\n"
     ]
    }
   ],
   "source": [
    "#2Q. Write a Python class for a `Car` with attributes for `make`, `model`, and `year`. Include a method to display\n",
    "#the car's information\n",
    "\n",
    "class Car:\n",
    "    def __init__(self, make, model, year):\n",
    "        self.make = make  \n",
    "        self.model = model  \n",
    "        self.year = year \n",
    "\n",
    "    def display_info(self):\n",
    "        return f\"{self.year} {self.make} {self.model}\"\n",
    "\n",
    "\n",
    "my_car = Car(\"maruti\",800, 2022)\n",
    "print(my_car.display_info())  \n"
   ]
  },
  {
   "cell_type": "code",
   "execution_count": 50,
   "id": "984228cc-b45c-4250-975b-2affcd5c20fe",
   "metadata": {},
   "outputs": [
    {
     "name": "stdout",
     "output_type": "stream",
     "text": [
      "car is stopping\n",
      "car is accelerating\n"
     ]
    },
    {
     "data": {
      "text/plain": [
       "2"
      ]
     },
     "execution_count": 50,
     "metadata": {},
     "output_type": "execute_result"
    }
   ],
   "source": [
    "'''3Q.Explain the difference between instance methods and class methods. Provide an example of each.\n",
    "Instance Method\n",
    "Methods that operate on an instance of a class and can access and modify\n",
    "instance-level attributes.The first parameter is always self, which refers to the instance calling the method.\n",
    " using the def keyword without additional decorators.'''\n",
    "class car:\n",
    "    def accelerate(self):\n",
    "        print('car is accelerating')\n",
    "    def brake(self):\n",
    "        print('car is stopping')\n",
    "c1 = car()\n",
    "c1.brake()\n",
    "c1.accelerate()\n",
    "\n",
    "''' class method\n",
    "Methods that operate on the class itself rather than any particular instance.cl is used as a parameter'''\n",
    "class student:\n",
    "    total_student = 0 #class variable\n",
    "    def __init__(self, name): #instance method\n",
    "        self.name = name #instane varibale\n",
    "        student.total_student = student.total_student+1 #total student is the class varible associated with all the instance\n",
    "    @classmethod\n",
    "    def get_total_student(cls):\n",
    "        return cls.total_student\n",
    "\n",
    "student.total_student\n",
    "stud1 = student('Ajay')\n",
    "stud2 = student('bijay')\n",
    "student.total_student"
   ]
  },
  {
   "cell_type": "code",
   "execution_count": 54,
   "id": "252c9650-a0ab-4a29-be3e-bb9b093271eb",
   "metadata": {},
   "outputs": [
    {
     "name": "stdout",
     "output_type": "stream",
     "text": [
      "2\n",
      "21\n",
      "23\n"
     ]
    }
   ],
   "source": [
    "'''4Q. How does Python implement method overloading? Give an example.\n",
    "Python does not support method overloading in the traditional sense'''\n",
    "class Calculator:\n",
    "    def add(self, a, b=0, c=0):\n",
    "        return a + b + c\n",
    "\n",
    "calc = Calculator()\n",
    "print(calc.add(2))          \n",
    "print(calc.add(10, 11))      \n",
    "print(calc.add(2, 10, 11))  \n"
   ]
  },
  {
   "cell_type": "raw",
   "id": "ae2ab6d4-4e4f-4fc3-baac-8a67b234b502",
   "metadata": {},
   "source": [
    "'''5Q. 5. What are the three types of access modifiers in Python? How are they denoted?\n",
    "public -Attributes and methods that are accessible from anywhere—inside or outside the class.\n",
    "no use of underscore is there \n",
    "\n",
    "private- Attributes and methods that are only accessible within the class where they are defined.\n",
    "They cannot be accessed directly from outside the class. use of  double leading underscore ( __method).\n",
    "\n",
    " protected - Attributes and methods intended to be accessed only within the class and its subclasses.\n",
    "a single leading underscore (_method)'''"
   ]
  },
  {
   "cell_type": "code",
   "execution_count": 58,
   "id": "dea71b97-9119-4863-bcb1-3df72b23874d",
   "metadata": {},
   "outputs": [
    {
     "name": "stdout",
     "output_type": "stream",
     "text": [
      "method 1 of parent class 1\n",
      "method of parent class 2\n"
     ]
    }
   ],
   "source": [
    "'''6Q.Describe the five types of inheritance in Python. Provide a simple example of multiple inheritance\n",
    "1. SINGLE - when a derived class has only one parent class\n",
    "2. MULTI-LEVEL - when there is parent class then child 1 then child1 like\n",
    "the grandfather then the father and then child.\n",
    "3. MULTIPLE - one child class may inherit from nthe property of multiple parent.\n",
    "4. HIERARCHIAL - one parent class, multiple child class.\n",
    "5. HYBRID - multiple types of combination of difrrent inheritance'''\n",
    "class ParentClass1:\n",
    "    def method1(self):\n",
    "        print('method 1 of parent class 1')\n",
    "class ParentClass2:\n",
    "    def method2(self):\n",
    "        print('method of parent class 2')\n",
    "class ChildClass(ParentClass1,ParentClass2):\n",
    "    def method3(self):\n",
    "        print('method of child class')\n",
    "\n",
    "c1 = ChildClass()\n",
    "c1.method1()\n",
    "c1.method2()"
   ]
  },
  {
   "cell_type": "code",
   "execution_count": 88,
   "id": "62d9659b-eb1b-4100-9a0a-e4d3eb8aa424",
   "metadata": {},
   "outputs": [
    {
     "name": "stdout",
     "output_type": "stream",
     "text": [
      "Hello from C\n"
     ]
    }
   ],
   "source": [
    "''' 7Q.What is the Method Resolution Order (MRO) in Python? How can you retrieve it programmatically?\n",
    "The Method Resolution Order (MRO) is the order in which Python looks for a method or attribute in a hierarchy of classes. \n",
    "It is primarily relevant in the context of inheritance, especially with multiple inheritance.\n",
    "Python uses the C3 linearization algorithm '''\n",
    "class A:\n",
    "    def greet(self):\n",
    "        print(\"Hello from A\")\n",
    "\n",
    "class B(A):\n",
    "    def greet(self):\n",
    "        print(\"Hello from B\")\n",
    "        \n",
    "class C(A):\n",
    "    def greet(self):\n",
    "        print(\"Hello from C\")\n",
    "        \n",
    "class D(C,B):\n",
    "    pass\n",
    "\n",
    "d = D()\n",
    "d.greet()\n"
   ]
  },
  {
   "cell_type": "code",
   "execution_count": 66,
   "id": "a9b8e396-b469-43ab-b8e5-4cc5a45e3fdb",
   "metadata": {},
   "outputs": [
    {
     "data": {
      "text/plain": [
       "'area of rectange is len*breadth'"
      ]
     },
     "execution_count": 66,
     "metadata": {},
     "output_type": "execute_result"
    }
   ],
   "source": [
    "'''8Q.Create an abstract base class `Shape` with an abstract method `area()`. Then create two subclasses\n",
    "`Circle` and `Rectangle` that implement the `area()` method.'''\n",
    "\n",
    "import abc\n",
    "class Shape:\n",
    "    @abc.abstractmethod\n",
    "    def calcuulate_area(self):\n",
    "        pass\n",
    "\n",
    "class Rectange(Shape):\n",
    "    def calculate_area(self):\n",
    "        return \"area of rectange is len*breadth\"\n",
    "\n",
    "class Circle(Shape):\n",
    "    def calculate_area(self):\n",
    "        return \"area of circle is pi r **2\"\n",
    "\n",
    "rect = Rectange()\n",
    "rect.calculate_area()"
   ]
  },
  {
   "cell_type": "code",
   "execution_count": 74,
   "id": "0863d203-583f-4fe6-b380-1389b7aef552",
   "metadata": {},
   "outputs": [
    {
     "name": "stdout",
     "output_type": "stream",
     "text": [
      "this method overloads the print stament of object method\n",
      "2 5\n"
     ]
    }
   ],
   "source": [
    "'''11Q.  Write a class that overrides the `__str__` and `__add__` magic methods. What will these methods allow\n",
    "you to do?'''\n",
    "class student:\n",
    "    def __init__(self): #use case of __str__\n",
    "        self.phone = 9999999\n",
    "    def __str__(self): #__str__ will return a string representation of object\n",
    "        return \"this method overloads the print stament of object method\"\n",
    "        \n",
    "print(student())\n",
    "\n",
    "class point: #use case od __add__\n",
    "    def __init__(self, x, y):\n",
    "        self.x = x\n",
    "        self.y = y\n",
    "    def __add__(self, other):\n",
    "        return point(self.x + other.x, self.y + other.y)\n",
    "\n",
    "p1 = point(1,3)\n",
    "p2 = point(1,2)\n",
    "p3 = p1+p2 #when you are using + opr  with point objects, python internally calls __add__\n",
    "print(p3.x, p3.y)"
   ]
  },
  {
   "cell_type": "code",
   "execution_count": 76,
   "id": "edecca73-ee79-4da7-acc2-e22bc89453b9",
   "metadata": {},
   "outputs": [
    {
     "name": "stdout",
     "output_type": "stream",
     "text": [
      "110000000\n",
      "the time for exectuing the code 0.0\n"
     ]
    }
   ],
   "source": [
    "#12Q.  Create a decorator that measures and prints the execution time of a function\n",
    "import time \n",
    "def timer_decorator(func):\n",
    "   def timer():\n",
    "      start = time.time()\n",
    "      func()\n",
    "      end = time.time()\n",
    "      print('the time for exectuing the code', end-start)\n",
    "   return timer\n",
    "\n",
    "@timer_decorator\n",
    "def abc():\n",
    "    print(110000*1000)\n",
    "abc()"
   ]
  },
  {
   "cell_type": "code",
   "execution_count": 84,
   "id": "4150addf-936b-40a0-8485-ccff4affc78e",
   "metadata": {},
   "outputs": [
    {
     "name": "stdout",
     "output_type": "stream",
     "text": [
      "method 1 of parent class 1\n"
     ]
    }
   ],
   "source": [
    "'''13Q.Explain the concept of the Diamond Problem in multiple inheritance. How does Python resolve it?\n",
    "it occuers when a class inherits from 2 or more than 2 class, it will lead to ambiguity in \n",
    "execution of method, or to remove daimond problem python uses method resolution algoritm called \n",
    "C3 lineraization, means the class which is inherited first in the derived class, that method will be \n",
    "called first'''\n",
    "class ParentClass1:\n",
    "    def method_par(self):\n",
    "        print('method 1 of parent class 1')\n",
    "class ParentClass2:\n",
    "    def method_par(self):\n",
    "        print('method of parent class 2')\n",
    "class ChildClass(ParentClass1,ParentClass2):\n",
    "    def method3(self):\n",
    "        print('method of child class')\n",
    "\n",
    "c2= ChildClass()\n",
    "c2.method_par()\n"
   ]
  },
  {
   "cell_type": "code",
   "execution_count": 80,
   "id": "cd187030-e993-446f-b1ae-ce8a381f393e",
   "metadata": {},
   "outputs": [
    {
     "data": {
      "text/plain": [
       "'ajay'"
      ]
     },
     "execution_count": 80,
     "metadata": {},
     "output_type": "execute_result"
    }
   ],
   "source": [
    "#14Q. Write a class method that keeps track of the number of instances created from a class\n",
    "class student:\n",
    "    def __init__(self, name):  #init method is a instance method \n",
    "        self.name = name \n",
    "    \n",
    "    @classmethod\n",
    "    def student_details(cls, name1):\n",
    "        return cls(name1)\n",
    "\n",
    "stud = student.student_details('ajay')\n",
    "stud.name"
   ]
  },
  {
   "cell_type": "code",
   "execution_count": null,
   "id": "e558c98c-f5fe-44ac-9156-298945e2b95c",
   "metadata": {},
   "outputs": [],
   "source": [
    "#15Q. Implement a static method in a class that checks if a given year is a leap year."
   ]
  }
 ],
 "metadata": {
  "kernelspec": {
   "display_name": "Python 3 (ipykernel)",
   "language": "python",
   "name": "python3"
  },
  "language_info": {
   "codemirror_mode": {
    "name": "ipython",
    "version": 3
   },
   "file_extension": ".py",
   "mimetype": "text/x-python",
   "name": "python",
   "nbconvert_exporter": "python",
   "pygments_lexer": "ipython3",
   "version": "3.12.4"
  }
 },
 "nbformat": 4,
 "nbformat_minor": 5
}
