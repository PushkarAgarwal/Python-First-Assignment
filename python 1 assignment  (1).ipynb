{
 "cells": [
  {
   "cell_type": "code",
   "execution_count": null,
   "id": "3d4dbb68-1036-4ef9-8b4c-abc7f614a821",
   "metadata": {},
   "outputs": [],
   "source": [
    "#1Q. Explain the key features of Python that make it a popular choice for programming.\n",
    "\"\"\"\n",
    "A programming language is a formal language for creating instructions for a computer to follow or it is a set of rules and symbols\n",
    "that define the process of writing computer programe as the other languages such as english as we know that in english in the bignening\n",
    "we lean alphabets, then words after that grammer and last how to construct a sentence similarly rules and symbols were instructed \n",
    "to system which is known as a programming language. Python is a programming language released in 1991 by Guid Van Rossum, it\n",
    "is a language which have a lots of libraries and widly used in industries, it is very easy to learn just lik english language and also \n",
    "have a readability option.\n",
    "\"\"\""
   ]
  },
  {
   "cell_type": "code",
   "execution_count": 28,
   "id": "c8a8ef96-ab21-4fe1-94f0-9e18efefabca",
   "metadata": {},
   "outputs": [
    {
     "name": "stdout",
     "output_type": "stream",
     "text": [
      "False\n",
      "True\n",
      "i will not play cricket\n",
      "this block will no executed\n"
     ]
    }
   ],
   "source": [
    "#2Q. Describe the role of predefined keywords in Python and provide examples of how they are used in a program.\n",
    "\"\"\"\n",
    "Key words are predefined words that hold a special meaning and have specific purpose. Python keywords are special reserved words that have specific \n",
    "meanings and purposes and can’t be used for anything but those specific purposes. There are a rule of defining a varibale that it must start from \n",
    "alphabet or underscore at first, it will be wrong if we use another things like numer or symbol. For ex. True, False, if, else, elif, for , while.\n",
    "\n",
    "\"\"\"\n",
    "#example are-\n",
    "print(2==1)\n",
    "\n",
    "print(2!=1)\n",
    "\n",
    "weather=\"rainy\"\n",
    "if weather ==\"rainy\":\n",
    "    print(\"i will not play cricket\")\n",
    "\n",
    "a=10  \n",
    "if a> 100:\n",
    "    print('this block will be executed')\n",
    "elif a<100:\n",
    "    print('this block will no executed')\n",
    "else : print('the nuber is 100')"
   ]
  },
  {
   "cell_type": "code",
   "execution_count": 33,
   "id": "d1746dca-2da2-4678-bdab-755fbbde3345",
   "metadata": {},
   "outputs": [
    {
     "name": "stdout",
     "output_type": "stream",
     "text": [
      "[1, 2, 3.6, 'Bhawesh']\n"
     ]
    }
   ],
   "source": [
    "#3Q.Compare and contrast mutable and immutable objects in Python with examples.\n",
    "\"\"\"\n",
    "The objects or container whose state or value can be changed after they are created or the conatiner, suupport items\n",
    "and assignments are called as mutuable objetcs. Like list conatins all types of value together it has  int, str, float [1, 2, 2.3, 'Pushkar']\n",
    "which have both negative and postive value like from right to left tha value starts from 0 and from left to right it starts with -1 and so on .\n",
    "\n",
    "and imutable objects are those which can't be change after creation \n",
    "\n",
    "\"\"\"\n",
    "#exampke of mutable \n",
    "list = [1, 2 , 3.6, \"Pushkar\"]\n",
    "list[-1] = \"Bhawesh\"\n",
    "print(list)"
   ]
  },
  {
   "cell_type": "code",
   "execution_count": 75,
   "id": "beb40e14-b3be-40cc-902d-e218b1accc01",
   "metadata": {},
   "outputs": [
    {
     "name": "stdout",
     "output_type": "stream",
     "text": [
      "3\n",
      "Pushkar\n",
      "1\n"
     ]
    },
    {
     "data": {
      "text/plain": [
       "False"
      ]
     },
     "execution_count": 75,
     "metadata": {},
     "output_type": "execute_result"
    }
   ],
   "source": [
    "# 4Q. Discuss the different types of operators in Python and provide examples of how they are used.\n",
    "\n",
    "\"\"\"\n",
    "These are the special leywords that are use to perform operations on values and variable. operators are used to manage data,\n",
    "do compuatation and make descision while using operators. There are many opertors like arithmatic, assginment, modulus, membership,\n",
    "logical, comparison and bitwise.\n",
    "\"\"\"\n",
    "#for example \n",
    "#arithmatic\n",
    "print(1+ 2)\n",
    "\n",
    "#Assignment\n",
    "a = \"Pushkar\"\n",
    "print(a)\n",
    "\n",
    "#modulus\n",
    "print(4//3)\n",
    "\n",
    "#membership\n",
    "a = \"Adit\"\n",
    "'p' in 'a'\n"
   ]
  },
  {
   "cell_type": "code",
   "execution_count": 85,
   "id": "86e0a04a-62b2-4ec6-939d-899a08c230aa",
   "metadata": {},
   "outputs": [
    {
     "name": "stdout",
     "output_type": "stream",
     "text": [
      "2\n",
      "4.2\n",
      "2\n",
      "1\n"
     ]
    }
   ],
   "source": [
    "# 5Q. Explain the concept of type casting in Python with examples.\n",
    "\n",
    "\"\"\"\n",
    "Type casting is the process of changing the data type of a value or object because while executing or computationg with opertors \n",
    "there can be a mismatch between the data types. Python understands both implict whic is automatic  and explict  which is non \n",
    "automatic which requires typecasting like int to int, int to float, float to float, str to str, int to str , float to int .\n",
    "\"\"\"\n",
    "\n",
    "#for examples\n",
    "print(1+1)\n",
    "print(1.2 + 3) #implict \n",
    "a = '2'\n",
    "print(int(a))\n",
    "print(int(1.3))"
   ]
  },
  {
   "cell_type": "code",
   "execution_count": 91,
   "id": "cef67404-1d68-4cb6-8c97-e33fdef0ed58",
   "metadata": {},
   "outputs": [
    {
     "name": "stdout",
     "output_type": "stream",
     "text": [
      "repeated\n",
      "the no. is huge\n",
      "both x and y is greater than 5\n"
     ]
    }
   ],
   "source": [
    "#6Q.  How do conditional statements work in Python? Illustrate with examples\n",
    "\n",
    "\"\"\"\n",
    "Flow controls in python refers to the machaninsm that governs the order in which statments and instructions are executed.\n",
    "this is crucial for implementing logic in your programs. It has four types if, if- else, elif, nested if-else\n",
    "\"\"\"\n",
    "#for example \n",
    "\n",
    "score= 20    #if\n",
    "if score >=21:\n",
    "    print('passed')\n",
    "else:\n",
    "    print('repeated')\n",
    "\n",
    "\n",
    "a=2001  # elif\n",
    "if a<100:\n",
    "    print('this block will no executed')\n",
    "elif (a > 2000):\n",
    "    print('the no. is huge')\n",
    "elif a> 100:\n",
    "    print('this block will be executed')\n",
    "else : print('the nuber is 100')\n",
    "\n",
    "x= 7  #>> nested\n",
    "y= 6\n",
    "if x>5:\n",
    "    if y>5:\n",
    "        print('both x and y is greater than 5')\n",
    "    else:\n",
    "        print('x is greater than 5 but y is lower than 5')\n",
    "else:\n",
    "    print('x is not grater than 5')"
   ]
  },
  {
   "cell_type": "code",
   "execution_count": 19,
   "id": "fe59ff5d-c430-410f-bba3-19d338e58da8",
   "metadata": {},
   "outputs": [
    {
     "name": "stdout",
     "output_type": "stream",
     "text": [
      "1\n",
      "2\n",
      "3\n",
      "4\n",
      "5\n",
      "6\n",
      "P\n",
      "u\n",
      "s\n",
      "h\n",
      "k\n",
      "a\n",
      "r\n"
     ]
    }
   ],
   "source": [
    "#7Q. Describe the different types of loops in Python and their use cases with examples.\n",
    "\"\"\"\n",
    "In Python, loops are used to execute a block of code repeatedly, as long as a condition is met.\n",
    "There are two main types of loops in Python: for loops and while loops. It will break the loop when the condition is false.\n",
    "There are two trypes of loop while and for. while loop is used when the number of iterations is not known and should continue \n",
    "until a specified condition becomes false and for loop used for iterating over a sequence.\n",
    "\n",
    "\"\"\"\n",
    "#while example\n",
    "\n",
    "n = 7\n",
    "i = 1\n",
    "while i < n:\n",
    "    print(i)\n",
    "    i= i+1\n",
    "\n",
    "#for example \n",
    "p = \"Pushkar\"\n",
    "for i in p:\n",
    "    print(i)"
   ]
  },
  {
   "cell_type": "code",
   "execution_count": null,
   "id": "ad1f27e6-c701-4a66-ab0f-64e5592755e6",
   "metadata": {},
   "outputs": [],
   "source": []
  },
  {
   "cell_type": "code",
   "execution_count": null,
   "id": "25241cdc-8255-413b-9c62-2cf8cea35740",
   "metadata": {},
   "outputs": [],
   "source": []
  }
 ],
 "metadata": {
  "kernelspec": {
   "display_name": "Python 3 (ipykernel)",
   "language": "python",
   "name": "python3"
  },
  "language_info": {
   "codemirror_mode": {
    "name": "ipython",
    "version": 3
   },
   "file_extension": ".py",
   "mimetype": "text/x-python",
   "name": "python",
   "nbconvert_exporter": "python",
   "pygments_lexer": "ipython3",
   "version": "3.12.4"
  }
 },
 "nbformat": 4,
 "nbformat_minor": 5
}
