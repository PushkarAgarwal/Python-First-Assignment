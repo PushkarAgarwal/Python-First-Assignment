{
 "cells": [
  {
   "cell_type": "code",
   "execution_count": 6,
   "id": "7be0bb41-3498-4d4b-934d-909968803ea7",
   "metadata": {},
   "outputs": [
    {
     "data": {
      "text/plain": [
       "'What is exception handling in Python?\\n\\ngenerally that disrupts the normal event is exception, python an exception is an event that occurs \\nduring programme execution that disrupts the regular flow of code.\\n\\n    why do we need to handel suspicious code/exceptions?\\n--Robust Application\\n--code leaner>>> fellow developer understand the corner cases\\n\\nhow to handel exceptions\\n>> using try catch block to handel exceptions\\n> whenever expection occurs>> python stops the programe and generate exception \\n>> handling this exception is advised\\n>> every code that is risky/suspicious you should do exception handling'"
      ]
     },
     "execution_count": 6,
     "metadata": {},
     "output_type": "execute_result"
    }
   ],
   "source": [
    "'''What is exception handling in Python?\n",
    "\n",
    "generally that disrupts the normal event is exception, python an exception is an event that occurs \n",
    "during programme execution that disrupts the regular flow of code.\n",
    "\n",
    "why do we need to handel suspicious code/exceptions?\n",
    "--Robust Application\n",
    "--code leaner>>> fellow developer understand the corner cases\n",
    "\n",
    "how to handel exceptions\n",
    ">> using try catch block to handel exceptions\n",
    "> whenever expection occurs>> python stops the programe and generate exception \n",
    ">> handling this exception is advised\n",
    ">> every code that is risky/suspicious you should do exception handling'''"
   ]
  },
  {
   "cell_type": "code",
   "execution_count": 8,
   "id": "30a3df03-2741-4cfd-a816-bd209a71ab8e",
   "metadata": {},
   "outputs": [
    {
     "data": {
      "text/plain": [
       "\"What is the difference between import and from ... import in Python\\nIn Python, `import` and `from ... import` are used to include code from other modules.\\nThe `import` statement brings in the whole module, so you need to use the module's name to access its functions\\nor variables (e.g., `math.sqrt(16)`). This keeps your code organized and avoids naming conflicts. On the other hand,\\n`from ... import` lets you import specific parts of a module directly, so you can use them without the module name \\n(e.g., `sqrt(16)` after `from math import sqrt`). This is more convenient but increases the chance of name conflicts. \\nChoose `import` for better organization or `from ... import` for simplicity when working with specific functions.\""
      ]
     },
     "execution_count": 8,
     "metadata": {},
     "output_type": "execute_result"
    }
   ],
   "source": [
    "'''What is the difference between import and from ... import in Python\n",
    "In Python, `import` and `from ... import` are used to include code from other modules.\n",
    "The `import` statement brings in the whole module, so you need to use the module's name to access its functions\n",
    "or variables (e.g., `math.sqrt(16)`). This keeps your code organized and avoids naming conflicts. On the other hand,\n",
    "`from ... import` lets you import specific parts of a module directly, so you can use them without the module name \n",
    "(e.g., `sqrt(16)` after `from math import sqrt`). This is more convenient but increases the chance of name conflicts. \n",
    "Choose `import` for better organization or `from ... import` for simplicity when working with specific functions.'''\n"
   ]
  },
  {
   "cell_type": "code",
   "execution_count": 10,
   "id": "05e1bbdf-c088-4920-a4dd-2c4baaf22495",
   "metadata": {},
   "outputs": [
    {
     "data": {
      "text/plain": [
       "'How can you handle multiple exceptions in Python\\n\\n1.using try catch block to handel exceptions\\n2.whenever expection occurs>> python stops the programe and generate exception \\n3. handling this exception is advised\\n4. every code that is risky/suspicious you should do exception handling'"
      ]
     },
     "execution_count": 10,
     "metadata": {},
     "output_type": "execute_result"
    }
   ],
   "source": [
    "'''How can you handle multiple exceptions in Python\n",
    "\n",
    "1.using try catch block to handel exceptions\n",
    "2.whenever expection occurs>> python stops the programe and generate exception \n",
    "3. handling this exception is advised\n",
    "4. every code that is risky/suspicious you should do exception handling'''"
   ]
  },
  {
   "cell_type": "code",
   "execution_count": 12,
   "id": "65c61277-8e83-49e9-82bf-4119af20c328",
   "metadata": {},
   "outputs": [
    {
     "data": {
      "text/plain": [
       "\"What is the purpose of the with statement when handling files in Python\\nRobust Application\\n--code leaner>>> fellow developer understand the corner cases\\n\\nwith example -\\nf = open('ex.txt', 'r')\\nprint(6+3)\\nprint('the file is opened and now i am performing some steps')\\n(the above code will not run , it throws error)\\n\\nwe were expecting something but it didnt happen, due to which the suspicious line \\nthrew error and the next line of code didnt got excuted.\\nzerodivison error, type error, file not found error>> these are exceptions rising due to \\nsupsicious code\\nother exceptions. impert error, runtime error\\n\""
      ]
     },
     "execution_count": 12,
     "metadata": {},
     "output_type": "execute_result"
    }
   ],
   "source": [
    "'''What is the purpose of the with statement when handling files in Python\n",
    "Robust Application\n",
    "--code leaner>>> fellow developer understand the corner cases\n",
    "\n",
    "with example -\n",
    "f = open('ex.txt', 'r')\n",
    "print(6+3)\n",
    "print('the file is opened and now i am performing some steps')\n",
    "(the above code will not run , it throws error)\n",
    "\n",
    "we were expecting something but it didnt happen, due to which the suspicious line \n",
    "threw error and the next line of code didnt got excuted.\n",
    "zerodivison error, type error, file not found error>> these are exceptions rising due to \n",
    "supsicious code\n",
    "other exceptions. impert error, runtime error\n",
    "'''"
   ]
  },
  {
   "cell_type": "code",
   "execution_count": 14,
   "id": "8d0d4f29-1efc-402e-b66f-5f1293b7b86b",
   "metadata": {},
   "outputs": [
    {
     "name": "stdout",
     "output_type": "stream",
     "text": [
      "9\n",
      "the file is opened and now i am performing some steps\n"
     ]
    }
   ],
   "source": [
    "'''What is the role of try and except in exception handling\n",
    "syntax of try except for handling exception in pyton\n",
    "\n",
    "try:\n",
    "    suspicious code\n",
    "except:\n",
    "    excuted when exception occurs in try block'''\n",
    "try:\n",
    "    f = open('ex.txt', 'r')\n",
    "except Exception:\n",
    "    print(6+3)\n",
    "print('the file is opened and now i am performing some steps')\n",
    "    "
   ]
  },
  {
   "cell_type": "code",
   "execution_count": 16,
   "id": "59cf445c-5198-4315-9024-1c9d28057ddf",
   "metadata": {},
   "outputs": [
    {
     "data": {
      "text/plain": [
       "'What is the importance of closing a file in Python\\nthe majoir or main importance of closing the file in python is just to show that the code is wriiten in the file \\nwether its of any type or whatever is being wriiten on the file at the time of opening up it will run the code but if you want to see that \\ncode to be written on that particular file which you have created you have to close that'"
      ]
     },
     "execution_count": 16,
     "metadata": {},
     "output_type": "execute_result"
    }
   ],
   "source": [
    "'''What is the importance of closing a file in Python\n",
    "the majoir or main importance of closing the file in python is just to show that the code is wriiten in the file \n",
    "wether its of any type or whatever is being wriiten on the file at the time of opening up it will run the code but if you want to see that \n",
    "code to be written on that particular file which you have created you have to close that'''"
   ]
  },
  {
   "cell_type": "code",
   "execution_count": 18,
   "id": "24905ea3-e273-4f91-b0e1-0fed1da0bff2",
   "metadata": {},
   "outputs": [
    {
     "data": {
      "text/plain": [
       "'What is the difference between file.read() and file.readline() in Python\\nthere is not that much huge diffrence in both of this , particularly readline can only read the first line ,\\nor readlines() will read/print every thing which is written there'"
      ]
     },
     "execution_count": 18,
     "metadata": {},
     "output_type": "execute_result"
    }
   ],
   "source": [
    "'''What is the difference between file.read() and file.readline() in Python\n",
    "there is not that much huge diffrence in both of this , particularly readline can only read the first line ,\n",
    "or readlines() will read/print every thing which is written there'''"
   ]
  },
  {
   "cell_type": "code",
   "execution_count": 20,
   "id": "ccfbe418-7f20-4d26-81aa-bfcf067679ce",
   "metadata": {},
   "outputs": [
    {
     "data": {
      "text/plain": [
       "'What is the os module in Python used for in file handling\\nos  is mainly if you want to get size of any file, first you have to import os after that if you want to make any directory,\\nwant to see location , any size, or to delete any thing you have to use os'"
      ]
     },
     "execution_count": 20,
     "metadata": {},
     "output_type": "execute_result"
    }
   ],
   "source": [
    "'''What is the os module in Python used for in file handling\n",
    "os  is mainly if you want to get size of any file, first you have to import os after that if you want to make any directory,\n",
    "want to see location , any size, or to delete any thing you have to use os'''"
   ]
  },
  {
   "cell_type": "code",
   "execution_count": 22,
   "id": "281409c2-28b5-4199-87a2-d485de624daf",
   "metadata": {},
   "outputs": [],
   "source": [
    "#How can you open a file for writing in Python and write a string to it?\n",
    "file = open('files.txt', 'w') \n",
    "file.write('this is my first line in this text')\n",
    "file.close()"
   ]
  },
  {
   "cell_type": "code",
   "execution_count": 28,
   "id": "1dab69e2-43cc-4495-af32-b730d4d5524c",
   "metadata": {},
   "outputs": [
    {
     "name": "stdout",
     "output_type": "stream",
     "text": [
      "this is my first line in this text\n",
      "this is my second line in this text\n",
      "this is my third line in this text\n",
      "this is my fourth line in this text\n",
      "\n"
     ]
    }
   ],
   "source": [
    "#Write a Python program to read the contents of a file and print each line\n",
    "file = open('files.txt', 'w')\n",
    "file.write('this is my first line in this text\\n')\n",
    "file.write('this is my second line in this text\\n')\n",
    "file.write('this is my third line in this text\\n')\n",
    "file.write('this is my fourth line in this text\\n')\n",
    "file.close() #first open and write in the file \n",
    "\n",
    "#then\n",
    "f = open('files.txt', 'r')\n",
    "f.seek(0)  #it will bring cursor at the start of the line\n",
    "print(f.read()) #it will only read everything from start\n",
    "f.close()\n"
   ]
  },
  {
   "cell_type": "code",
   "execution_count": 30,
   "id": "d3812002-4eb8-4b7a-b2bc-97aae26ff49c",
   "metadata": {},
   "outputs": [],
   "source": [
    "# How would you handle a case where the file doesn't exist while trying to open it for reading\n",
    "open('files.txt', 'r') #if there is no file , and you open in read mode it will throw error\n",
    "file = open('files.txt', 'w') #w >> means write mode , if a file is not there it will create the file.txt and thrn read it \n",
    "file.write('hello this is my firstline in the text file') #numbers below is no.of bites you have written\n",
    "file.close()"
   ]
  },
  {
   "cell_type": "code",
   "execution_count": null,
   "id": "8f444b3e-b246-4485-9b18-7e13efd3dbc6",
   "metadata": {},
   "outputs": [],
   "source": [
    "#How would you catch and handle division by zero error in Python\n",
    "print(4/2)\n",
    "print(3/5)\n",
    "print('the code is running fine')\n",
    "print(6/0) #suspicious code\n",
    "print('your name is ajay')\n",
    "print(2+3)\n",
    "print('the code ends here')"
   ]
  }
 ],
 "metadata": {
  "kernelspec": {
   "display_name": "Python 3 (ipykernel)",
   "language": "python",
   "name": "python3"
  },
  "language_info": {
   "codemirror_mode": {
    "name": "ipython",
    "version": 3
   },
   "file_extension": ".py",
   "mimetype": "text/x-python",
   "name": "python",
   "nbconvert_exporter": "python",
   "pygments_lexer": "ipython3",
   "version": "3.12.4"
  }
 },
 "nbformat": 4,
 "nbformat_minor": 5
}
