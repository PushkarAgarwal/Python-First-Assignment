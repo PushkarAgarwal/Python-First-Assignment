{
 "cells": [
  {
   "cell_type": "code",
   "execution_count": 17,
   "id": "2aa7503a-57f0-43d6-8bc4-89ac7b61be2b",
   "metadata": {},
   "outputs": [
    {
     "name": "stdout",
     "output_type": "stream",
     "text": [
      "I am\n",
      "a good \n",
      "I am a good student\n",
      "t\n"
     ]
    }
   ],
   "source": [
    "#1Q. Discuss string slicing and provide examples.\n",
    "\"\"\"\n",
    "string is a sequence of character where it represnt and manipulate textual data, characters are represnted using numerical values \n",
    "and each charcter is assigned with a unique value. ASCII(American standard code for information interchange) it represtents 128 characters\n",
    "( 7 bits) 2 to power 7 = 128 and UTF-8, UTF-16(unicode tansformation format) which is widely accepted in the industry beacuse it covers \n",
    "almost all the characters in every language.\n",
    "\"\"\"\n",
    "#Examples\n",
    "string1 = 'I am a good student'\n",
    "print(string1[:4]) #4 is exclusive it wiull run only till 3\n",
    "print(string1[5:12])\n",
    "print(string1[0:]) #start index and end index >> if you not provide end index, it will by default give the last index\n",
    "print(string1[-1]) #from negative indexing"
   ]
  },
  {
   "cell_type": "code",
   "execution_count": 29,
   "id": "801ec04d-d5cd-4139-9789-2c646867f818",
   "metadata": {},
   "outputs": [
    {
     "name": "stdout",
     "output_type": "stream",
     "text": [
      "<class 'list'>\n",
      "<class 'list'>\n"
     ]
    }
   ],
   "source": [
    "#2Q. Explain the key features of lists in Python\n",
    "\"\"\"\n",
    "Lists are the orderd collection of data,which is denoted by square brackets ([]). It is like a mom's shopping bag which can store diffrent\n",
    "or any kind of data. It is heterogenous in nature and are mutuable.\n",
    "\"\"\"\n",
    "#examples\n",
    "grocery_list = ['Milk', 'Orange', 1, 2.2, True, 3+5j]\n",
    "print(type(grocery_list))\n",
    "\n",
    "a = [1, 2, 3.3, \"baigan\", \"tamato\", True, False, (3+7j)]\n",
    "print(type(a))"
   ]
  },
  {
   "cell_type": "code",
   "execution_count": 47,
   "id": "807a5e1a-b7f7-4e02-a110-3eb544d83559",
   "metadata": {},
   "outputs": [
    {
     "name": "stdout",
     "output_type": "stream",
     "text": [
      "[1, 2, 3.3, 'baigan', 'tamato', True, False, (3+7j), 'orange']\n",
      "['Potato', 'Apple', 2, 3.4, True]\n",
      "chap1\n"
     ]
    },
    {
     "data": {
      "text/plain": [
       "[]"
      ]
     },
     "execution_count": 47,
     "metadata": {},
     "output_type": "execute_result"
    }
   ],
   "source": [
    "#3Q. Describe how to access, modify, and delete elements in a list with examples.\n",
    "\n",
    "\"\"\"how to add value at the last of the list, by using append function\"\"\"\n",
    "\n",
    "a = [1, 2, 3.3, \"baigan\", \"tamato\", True, False, (3+7j)]\n",
    "a.append('orange')\n",
    "print(a)\n",
    "\n",
    "\"\"\" how to modify the value to the other value \"\"\"\n",
    "shopping_list = [\"Baigan\", \"Apple\", 2, 3.4, True]\n",
    "shopping_list[0] = \"Potato\"\n",
    "print(shopping_list)\n",
    "\n",
    "\"\"\"for accessing the list, just write down the elemnts insidethe square bracket the close the bracket or to find the value \n",
    "run the code with the help of using indexing to find the particular value\"\"\"\n",
    "pages = ['totle page', 'chap1', 'chap2', 'chap3', 'conclusion', 'index']\n",
    "print(pages[1])\n",
    "\n",
    "\"\"\"for deleting the elements in the list just use name.clear and run the code the elements will be cleared\"\"\"\n",
    "shopping_list = [\"Baigan\", \"Apple\", 2, 3.4, True]\n",
    "shopping_list.clear()\n",
    "shopping_list"
   ]
  },
  {
   "cell_type": "code",
   "execution_count": 55,
   "id": "93d4156a-4118-4f22-8837-27803c73dc57",
   "metadata": {},
   "outputs": [
    {
     "name": "stdout",
     "output_type": "stream",
     "text": [
      "<class 'tuple'>\n"
     ]
    },
    {
     "data": {
      "text/plain": [
       "list"
      ]
     },
     "execution_count": 55,
     "metadata": {},
     "output_type": "execute_result"
    }
   ],
   "source": [
    "#4Q. Compare and contrast tuples and lists with examples.\n",
    "\"\"\"\n",
    "Lists are the orderd collection of data,which is denoted by square brackets ([]). It is like a mom's shopping bag which can \n",
    "store diffrent or any kind of data. It is heterogenous in nature and are mutuable.\n",
    "whereas \n",
    "tuples is also the orderd collection of elemnts or data which is heterogenous in nature and denoted by round brackets(),\n",
    "it is imutuable\"\"\"\n",
    "#examples\n",
    "#tuples\n",
    "t = ('pwskills', 'ajay', 2, 2.2, True, 3+5j)\n",
    "print(type(t))\n",
    "\n",
    "#or list\n",
    "a = [1, 2, 3.3, \"brinjal\", \"tamato\", True, False, (3+7j)]\n",
    "type(a)"
   ]
  },
  {
   "cell_type": "code",
   "execution_count": 63,
   "id": "12447226-a72e-4a64-9aa6-936a437bbf07",
   "metadata": {},
   "outputs": [
    {
     "name": "stdout",
     "output_type": "stream",
     "text": [
      "<class 'set'>\n",
      "{1, 2, 'ajay'}\n",
      "{1, 2, 3, 'pwskills', 'power'}\n",
      "{1, 2, 3, 'pwskills', 'power', 'ajay'}\n"
     ]
    }
   ],
   "source": [
    "#5Q.  Describe the key features of sets and provide examples of their use.\n",
    "\"\"\"\n",
    "sets are unorderd and unique collection of elements, it does't allow duplicate elements/values.It is the unordered collection \n",
    "of data which dosen't follow indexing. IT is denoted by {} curley brackets, or they are mutuble in nature means after running\n",
    "the code we can also update or change the value. It also have some operations like (a). union: combines elemsnts from two sets excluding duplicates.\n",
    "(b)intersection : only common elements between the sets, (c) diffrence: returns the elements that is present in first set and not in second\n",
    "and lastly (d)symmetri diffrence: returns elemsnts that are present in either of set but not in both the sets\n",
    "\"\"\"\n",
    "#exapmles\n",
    "s = {1,2,3,4}\n",
    "print(type(s))\n",
    "\n",
    "s = {1,2,1,2,2,'ajay','ajay', 'ajay'}\n",
    "print(s) #there are many duplicates but it will run and give  unique value only\n",
    "\n",
    "s = {1,2,3,'pwskills'}\n",
    "s.add('power')# not nescessary that it will add the elements at the last\n",
    "print(s)\n",
    "\n",
    "s.update(['ajay'])\n",
    "print(s)\n",
    "\n"
   ]
  },
  {
   "cell_type": "code",
   "execution_count": 79,
   "id": "505f0282-8cd8-4bf5-ad2f-2312ef132dba",
   "metadata": {},
   "outputs": [
    {
     "name": "stdout",
     "output_type": "stream",
     "text": [
      "{1, 2, 3, 'apple', 'brinjal'}\n",
      "True\n",
      "False\n",
      "{1, 2, 3, 4, 5, 6}\n",
      "{3, 4}\n",
      "{1, 2}\n",
      "20\n",
      "{(37.7749, -122.4194): 'San Francisco', (34.0522, -118.2437): 'Los Angeles'}\n"
     ]
    }
   ],
   "source": [
    "#6Q. Discuss the use cases of tuples and sets in Python programming.\n",
    "#use case of sets\n",
    "basket ={1,2,3, 1, 2, 'brinjal', 'apple', 'brinjal'}\n",
    "print(basket)\n",
    "\n",
    "fruits = {\"apple\", \"banana\", \"cherry\"}\n",
    "print(\"banana\" in fruits) \n",
    "print(\"orange\" in fruits)\n",
    "\n",
    "A = {1, 2, 3, 4}\n",
    "B = {3, 4, 5, 6}\n",
    "\n",
    "# Union\n",
    "print(A | B)  # Output: {1, 2, 3, 4, 5, 6}\n",
    "\n",
    "# Intersection\n",
    "print(A & B)  # Output: {3, 4}\n",
    "\n",
    "# Difference\n",
    "print(A - B)\n",
    "\n",
    "#Use case of tuples\n",
    "coordinates = (10, 20, 30)\n",
    "print(coordinates[1])\n",
    "\n",
    "location_data = {\n",
    "    (37.7749, -122.4194): \"San Francisco\",\n",
    "    (34.0522, -118.2437): \"Los Angeles\"\n",
    "}\n",
    "print(location_data)"
   ]
  },
  {
   "cell_type": "code",
   "execution_count": 4,
   "id": "c5b5cc09-b15a-43e9-afe7-b92210cf8fe7",
   "metadata": {},
   "outputs": [
    {
     "name": "stdout",
     "output_type": "stream",
     "text": [
      "{'name': 'ajay', 'email': 'aj@gmail.com', 'contact': 1234}\n",
      "{'name': 'ajay', 'email': 'aj@gmail.com', 'contact': 1234, 'address': 'banglore'}\n",
      "{'name': 'bijay', 'email': 'aj@gmail.com', 'contact': 1234}\n"
     ]
    },
    {
     "data": {
      "text/plain": [
       "{}"
      ]
     },
     "execution_count": 4,
     "metadata": {},
     "output_type": "execute_result"
    }
   ],
   "source": [
    "#7Q. Describe how to add, modify, and delete items in a dictionary with examples.\n",
    "\"\"\"\n",
    "dictonary is a data structre that stores data as a key value pair and keys are unique and immutable in it.\"\"\"\n",
    "\n",
    "d = {'name': 'ajay', 'email': 'aj@gmail.com', 'contact':1234}\n",
    "print(d) #dict. example\n",
    "\n",
    "#add elements\n",
    "d = {'name': 'ajay', 'email': 'aj@gmail.com', 'contact':1234}\n",
    "d['address'] = 'banglore'\n",
    "print(d) # a new key and value added as address.\n",
    "\n",
    "#modify elements\n",
    "d = {'name': 'ajay', 'email': 'aj@gmail.com', 'contact':1234}\n",
    "d['name'] = 'bijay'\n",
    "print(d) # ajay got changed to bijay \n",
    "\n",
    "#delete elements \n",
    "d = {'name': 'ajay', 'email': 'aj@gmail.com', 'contact': 1234, 'address': 'banglore'}\n",
    "d.clear()\n",
    "d\n"
   ]
  },
  {
   "cell_type": "code",
   "execution_count": 2,
   "id": "d358678d-0138-4495-9fac-b6a3515c7366",
   "metadata": {},
   "outputs": [
    {
     "name": "stdout",
     "output_type": "stream",
     "text": [
      "{'ajay': 60, 'aru': 80, 'bijay': 90}\n"
     ]
    },
    {
     "data": {
      "text/plain": [
       "{'name': 'bijay', 'email': 'aj@gmail.com', 'contact': 1234}"
      ]
     },
     "execution_count": 2,
     "metadata": {},
     "output_type": "execute_result"
    }
   ],
   "source": [
    "#8Q. Discuss the importance of dictionary keys being immutable and provide examples\n",
    "\"\"\"dictonary is a data structre that stores data as a key value pair and keys are unique and immutable in it. Dictonaries are unorderd \n",
    "collection of elements, but from python 3.7 version, dictonaries retain the order of insertion, this means that if yor iterate over \n",
    "a dictonry, the items will be returned in the order they were added.\"\"\"\n",
    "\n",
    "#dictonay comprehsnsion\n",
    "student=['ajay', 'aru', 'bijay']\n",
    "marks =[60,80,90]\n",
    "print({student:mark for student, mark in zip(student, marks)})\n",
    "\n",
    "d = {'name': 'ajay', 'email': 'aj@gmail.com', 'contact':1234}\n",
    "d['name'] = 'bijay'\n",
    "d # ajay got changed to bijay \n"
   ]
  },
  {
   "cell_type": "code",
   "execution_count": null,
   "id": "bf1a5515-f39f-45bf-9f13-212adf083844",
   "metadata": {},
   "outputs": [],
   "source": []
  }
 ],
 "metadata": {
  "kernelspec": {
   "display_name": "Python 3 (ipykernel)",
   "language": "python",
   "name": "python3"
  },
  "language_info": {
   "codemirror_mode": {
    "name": "ipython",
    "version": 3
   },
   "file_extension": ".py",
   "mimetype": "text/x-python",
   "name": "python",
   "nbconvert_exporter": "python",
   "pygments_lexer": "ipython3",
   "version": "3.12.4"
  }
 },
 "nbformat": 4,
 "nbformat_minor": 5
}
